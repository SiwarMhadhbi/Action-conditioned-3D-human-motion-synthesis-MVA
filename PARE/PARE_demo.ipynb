{
 "cells": [
  {
   "cell_type": "code",
   "execution_count": null,
   "metadata": {
    "colab": {
     "base_uri": "https://localhost:8080/"
    },
    "id": "l_cY5OpoVBx1",
    "outputId": "010d0747-8ba7-4611-d75b-b0eb3547db89"
   },
   "outputs": [
    {
     "name": "stdout",
     "output_type": "stream",
     "text": [
      "Drive already mounted at /content/drive; to attempt to forcibly remount, call drive.mount(\"/content/drive\", force_remount=True).\n"
     ]
    }
   ],
   "source": [
    "from google.colab import drive\n",
    "drive.mount('/content/drive')"
   ]
  },
  {
   "cell_type": "code",
   "execution_count": null,
   "metadata": {
    "colab": {
     "base_uri": "https://localhost:8080/"
    },
    "id": "yiF4Q_ibnCoT",
    "outputId": "60b4a09a-1682-45e2-fc98-584adce6d447"
   },
   "outputs": [
    {
     "name": "stdout",
     "output_type": "stream",
     "text": [
      "Cloning into 'PARE'...\n",
      "remote: Enumerating objects: 185, done.\u001b[K\n",
      "remote: Counting objects: 100% (185/185), done.\u001b[K\n",
      "remote: Compressing objects: 100% (122/122), done.\u001b[K\n",
      "remote: Total 185 (delta 61), reused 184 (delta 60), pack-reused 0\u001b[K\n",
      "Receiving objects: 100% (185/185), 20.53 MiB | 24.73 MiB/s, done.\n",
      "Resolving deltas: 100% (61/61), done.\n"
     ]
    }
   ],
   "source": [
    "!git clone https://github.com/mkocabas/PARE.git"
   ]
  },
  {
   "cell_type": "code",
   "execution_count": null,
   "metadata": {
    "colab": {
     "base_uri": "https://localhost:8080/"
    },
    "id": "LOiIDuKwnEJE",
    "outputId": "5b960c3c-7825-46a8-d583-ab09c806dbdb"
   },
   "outputs": [
    {
     "name": "stdout",
     "output_type": "stream",
     "text": [
      "/content/PARE\n"
     ]
    }
   ],
   "source": [
    "%cd PARE/"
   ]
  },
  {
   "cell_type": "code",
   "execution_count": null,
   "metadata": {
    "colab": {
     "base_uri": "https://localhost:8080/"
    },
    "id": "eyxIaPjfp2YR",
    "outputId": "858fbca6-ed0e-4792-e08b-ed5e87f3988c"
   },
   "outputs": [
    {
     "name": "stdout",
     "output_type": "stream",
     "text": [
      "Collecting git+https://github.com/mkocabas/yolov3-pytorch.git (from -r requirements.txt (line 27))\n",
      "  Cloning https://github.com/mkocabas/yolov3-pytorch.git to /tmp/pip-req-build-qnxtvf4x\n",
      "  Running command git clone -q https://github.com/mkocabas/yolov3-pytorch.git /tmp/pip-req-build-qnxtvf4x\n",
      "Collecting git+https://github.com/mkocabas/multi-person-tracker.git (from -r requirements.txt (line 28))\n",
      "  Cloning https://github.com/mkocabas/multi-person-tracker.git to /tmp/pip-req-build-keu0gs44\n",
      "  Running command git clone -q https://github.com/mkocabas/multi-person-tracker.git /tmp/pip-req-build-keu0gs44\n",
      "Collecting git+https://github.com/giacaglia/pytube.git (from -r requirements.txt (line 29))\n",
      "  Cloning https://github.com/giacaglia/pytube.git to /tmp/pip-req-build-8z1dpfy7\n",
      "  Running command git clone -q https://github.com/giacaglia/pytube.git /tmp/pip-req-build-8z1dpfy7\n",
      "Requirement already satisfied: numpy in /usr/local/lib/python3.7/dist-packages (from -r requirements.txt (line 1)) (1.19.5)\n",
      "Requirement already satisfied: torch==1.6.0 in /usr/local/lib/python3.7/dist-packages (from -r requirements.txt (line 2)) (1.6.0)\n",
      "Requirement already satisfied: torchvision==0.7.0 in /usr/local/lib/python3.7/dist-packages (from -r requirements.txt (line 3)) (0.7.0)\n",
      "Requirement already satisfied: joblib==0.15.1 in /usr/local/lib/python3.7/dist-packages (from -r requirements.txt (line 4)) (0.15.1)\n",
      "Requirement already satisfied: opencv-python==4.1.1.26 in /usr/local/lib/python3.7/dist-packages (from -r requirements.txt (line 5)) (4.1.1.26)\n",
      "Requirement already satisfied: trimesh==3.8.12 in /usr/local/lib/python3.7/dist-packages (from -r requirements.txt (line 6)) (3.8.12)\n",
      "Requirement already satisfied: pyrender==0.1.36 in /usr/local/lib/python3.7/dist-packages (from -r requirements.txt (line 7)) (0.1.36)\n",
      "Requirement already satisfied: smplx==0.1.28 in /usr/local/lib/python3.7/dist-packages (from -r requirements.txt (line 8)) (0.1.28)\n",
      "Requirement already satisfied: tqdm==4.47.0 in /usr/local/lib/python3.7/dist-packages (from -r requirements.txt (line 9)) (4.47.0)\n",
      "Requirement already satisfied: loguru==0.3.2 in /usr/local/lib/python3.7/dist-packages (from -r requirements.txt (line 10)) (0.3.2)\n",
      "Requirement already satisfied: albumentations==0.4.6 in /usr/local/lib/python3.7/dist-packages (from -r requirements.txt (line 11)) (0.4.6)\n",
      "Requirement already satisfied: scipy==1.7.0 in /usr/local/lib/python3.7/dist-packages (from -r requirements.txt (line 12)) (1.7.0)\n",
      "Requirement already satisfied: pyyaml==5.3.1 in /usr/local/lib/python3.7/dist-packages (from -r requirements.txt (line 13)) (5.3.1)\n",
      "Requirement already satisfied: yacs==0.1.8 in /usr/local/lib/python3.7/dist-packages (from -r requirements.txt (line 14)) (0.1.8)\n",
      "Requirement already satisfied: matplotlib==3.4.2 in /usr/local/lib/python3.7/dist-packages (from -r requirements.txt (line 15)) (3.4.2)\n",
      "Requirement already satisfied: scikit-image==0.17.2 in /usr/local/lib/python3.7/dist-packages (from -r requirements.txt (line 16)) (0.17.2)\n",
      "Requirement already satisfied: pillow==8.2.0 in /usr/local/lib/python3.7/dist-packages (from -r requirements.txt (line 17)) (8.2.0)\n",
      "Requirement already satisfied: pytorch-lightning==1.1.8 in /usr/local/lib/python3.7/dist-packages (from -r requirements.txt (line 18)) (1.1.8)\n",
      "Requirement already satisfied: numba==0.54.1 in /usr/local/lib/python3.7/dist-packages (from -r requirements.txt (line 19)) (0.54.1)\n",
      "Requirement already satisfied: filterpy==1.4.5 in /usr/local/lib/python3.7/dist-packages (from -r requirements.txt (line 20)) (1.4.5)\n",
      "Requirement already satisfied: flatten-dict==0.2.0 in /usr/local/lib/python3.7/dist-packages (from -r requirements.txt (line 21)) (0.2.0)\n",
      "Requirement already satisfied: fastai==1.0.55 in /usr/local/lib/python3.7/dist-packages (from -r requirements.txt (line 22)) (1.0.55)\n",
      "Requirement already satisfied: jpeg4py==0.1.4 in /usr/local/lib/python3.7/dist-packages (from -r requirements.txt (line 23)) (0.1.4)\n",
      "Requirement already satisfied: chumpy==0.70 in /usr/local/lib/python3.7/dist-packages (from -r requirements.txt (line 24)) (0.70)\n",
      "Requirement already satisfied: torchgeometry==0.1.2 in /usr/local/lib/python3.7/dist-packages (from -r requirements.txt (line 25)) (0.1.2)\n",
      "Requirement already satisfied: setuptools==47.3.1 in /usr/local/lib/python3.7/dist-packages (from -r requirements.txt (line 26)) (47.3.1)\n",
      "Requirement already satisfied: future in /usr/local/lib/python3.7/dist-packages (from torch==1.6.0->-r requirements.txt (line 2)) (0.18.2)\n",
      "Requirement already satisfied: PyOpenGL==3.1.0 in /usr/local/lib/python3.7/dist-packages (from pyrender==0.1.36->-r requirements.txt (line 7)) (3.1.0)\n",
      "Requirement already satisfied: networkx in /usr/local/lib/python3.7/dist-packages (from pyrender==0.1.36->-r requirements.txt (line 7)) (2.6.3)\n",
      "Requirement already satisfied: imageio in /usr/local/lib/python3.7/dist-packages (from pyrender==0.1.36->-r requirements.txt (line 7)) (2.4.1)\n",
      "Requirement already satisfied: six in /usr/local/lib/python3.7/dist-packages (from pyrender==0.1.36->-r requirements.txt (line 7)) (1.15.0)\n",
      "Requirement already satisfied: freetype-py in /usr/local/lib/python3.7/dist-packages (from pyrender==0.1.36->-r requirements.txt (line 7)) (2.2.0)\n",
      "Requirement already satisfied: pyglet>=1.4.10 in /usr/local/lib/python3.7/dist-packages (from pyrender==0.1.36->-r requirements.txt (line 7)) (1.5.0)\n",
      "Requirement already satisfied: imgaug>=0.4.0 in /usr/local/lib/python3.7/dist-packages (from albumentations==0.4.6->-r requirements.txt (line 11)) (0.4.0)\n",
      "Requirement already satisfied: python-dateutil>=2.7 in /usr/local/lib/python3.7/dist-packages (from matplotlib==3.4.2->-r requirements.txt (line 15)) (2.8.2)\n",
      "Requirement already satisfied: pyparsing>=2.2.1 in /usr/local/lib/python3.7/dist-packages (from matplotlib==3.4.2->-r requirements.txt (line 15)) (3.0.6)\n",
      "Requirement already satisfied: cycler>=0.10 in /usr/local/lib/python3.7/dist-packages (from matplotlib==3.4.2->-r requirements.txt (line 15)) (0.11.0)\n",
      "Requirement already satisfied: kiwisolver>=1.0.1 in /usr/local/lib/python3.7/dist-packages (from matplotlib==3.4.2->-r requirements.txt (line 15)) (1.3.2)\n",
      "Requirement already satisfied: tifffile>=2019.7.26 in /usr/local/lib/python3.7/dist-packages (from scikit-image==0.17.2->-r requirements.txt (line 16)) (2021.11.2)\n",
      "Requirement already satisfied: PyWavelets>=1.1.1 in /usr/local/lib/python3.7/dist-packages (from scikit-image==0.17.2->-r requirements.txt (line 16)) (1.2.0)\n",
      "Requirement already satisfied: tensorboard>=2.2.0 in /usr/local/lib/python3.7/dist-packages (from pytorch-lightning==1.1.8->-r requirements.txt (line 18)) (2.7.0)\n",
      "Requirement already satisfied: fsspec[http]>=0.8.1 in /usr/local/lib/python3.7/dist-packages (from pytorch-lightning==1.1.8->-r requirements.txt (line 18)) (2021.11.1)\n",
      "Requirement already satisfied: llvmlite<0.38,>=0.37.0rc1 in /usr/local/lib/python3.7/dist-packages (from numba==0.54.1->-r requirements.txt (line 19)) (0.37.0)\n",
      "Requirement already satisfied: pathlib2<3.0,>=2.3 in /usr/local/lib/python3.7/dist-packages (from flatten-dict==0.2.0->-r requirements.txt (line 21)) (2.3.6)\n",
      "Requirement already satisfied: numexpr in /usr/local/lib/python3.7/dist-packages (from fastai==1.0.55->-r requirements.txt (line 22)) (2.7.3)\n",
      "Requirement already satisfied: pandas in /usr/local/lib/python3.7/dist-packages (from fastai==1.0.55->-r requirements.txt (line 22)) (1.1.5)\n",
      "Requirement already satisfied: spacy>=2.0.18 in /usr/local/lib/python3.7/dist-packages (from fastai==1.0.55->-r requirements.txt (line 22)) (2.2.4)\n",
      "Requirement already satisfied: fastprogress>=0.1.19 in /usr/local/lib/python3.7/dist-packages (from fastai==1.0.55->-r requirements.txt (line 22)) (1.0.0)\n",
      "Requirement already satisfied: requests in /usr/local/lib/python3.7/dist-packages (from fastai==1.0.55->-r requirements.txt (line 22)) (2.23.0)\n",
      "Requirement already satisfied: beautifulsoup4 in /usr/local/lib/python3.7/dist-packages (from fastai==1.0.55->-r requirements.txt (line 22)) (4.6.3)\n",
      "Requirement already satisfied: nvidia-ml-py3 in /usr/local/lib/python3.7/dist-packages (from fastai==1.0.55->-r requirements.txt (line 22)) (7.352.0)\n",
      "Requirement already satisfied: bottleneck in /usr/local/lib/python3.7/dist-packages (from fastai==1.0.55->-r requirements.txt (line 22)) (1.3.2)\n",
      "Requirement already satisfied: packaging in /usr/local/lib/python3.7/dist-packages (from fastai==1.0.55->-r requirements.txt (line 22)) (21.3)\n",
      "Requirement already satisfied: cffi in /usr/local/lib/python3.7/dist-packages (from jpeg4py==0.1.4->-r requirements.txt (line 23)) (1.15.0)\n",
      "Requirement already satisfied: aiohttp in /usr/local/lib/python3.7/dist-packages (from fsspec[http]>=0.8.1->pytorch-lightning==1.1.8->-r requirements.txt (line 18)) (3.8.1)\n",
      "Requirement already satisfied: Shapely in /usr/local/lib/python3.7/dist-packages (from imgaug>=0.4.0->albumentations==0.4.6->-r requirements.txt (line 11)) (1.8.0)\n",
      "Requirement already satisfied: wasabi<1.1.0,>=0.4.0 in /usr/local/lib/python3.7/dist-packages (from spacy>=2.0.18->fastai==1.0.55->-r requirements.txt (line 22)) (0.8.2)\n",
      "Requirement already satisfied: cymem<2.1.0,>=2.0.2 in /usr/local/lib/python3.7/dist-packages (from spacy>=2.0.18->fastai==1.0.55->-r requirements.txt (line 22)) (2.0.6)\n",
      "Requirement already satisfied: blis<0.5.0,>=0.4.0 in /usr/local/lib/python3.7/dist-packages (from spacy>=2.0.18->fastai==1.0.55->-r requirements.txt (line 22)) (0.4.1)\n",
      "Requirement already satisfied: thinc==7.4.0 in /usr/local/lib/python3.7/dist-packages (from spacy>=2.0.18->fastai==1.0.55->-r requirements.txt (line 22)) (7.4.0)\n",
      "Requirement already satisfied: srsly<1.1.0,>=1.0.2 in /usr/local/lib/python3.7/dist-packages (from spacy>=2.0.18->fastai==1.0.55->-r requirements.txt (line 22)) (1.0.5)\n",
      "Requirement already satisfied: plac<1.2.0,>=0.9.6 in /usr/local/lib/python3.7/dist-packages (from spacy>=2.0.18->fastai==1.0.55->-r requirements.txt (line 22)) (1.1.3)\n",
      "Requirement already satisfied: preshed<3.1.0,>=3.0.2 in /usr/local/lib/python3.7/dist-packages (from spacy>=2.0.18->fastai==1.0.55->-r requirements.txt (line 22)) (3.0.6)\n",
      "Requirement already satisfied: catalogue<1.1.0,>=0.0.7 in /usr/local/lib/python3.7/dist-packages (from spacy>=2.0.18->fastai==1.0.55->-r requirements.txt (line 22)) (1.0.0)\n",
      "Requirement already satisfied: murmurhash<1.1.0,>=0.28.0 in /usr/local/lib/python3.7/dist-packages (from spacy>=2.0.18->fastai==1.0.55->-r requirements.txt (line 22)) (1.0.6)\n",
      "Requirement already satisfied: importlib-metadata>=0.20 in /usr/local/lib/python3.7/dist-packages (from catalogue<1.1.0,>=0.0.7->spacy>=2.0.18->fastai==1.0.55->-r requirements.txt (line 22)) (4.8.2)\n",
      "Requirement already satisfied: typing-extensions>=3.6.4 in /usr/local/lib/python3.7/dist-packages (from importlib-metadata>=0.20->catalogue<1.1.0,>=0.0.7->spacy>=2.0.18->fastai==1.0.55->-r requirements.txt (line 22)) (3.10.0.2)\n",
      "Requirement already satisfied: zipp>=0.5 in /usr/local/lib/python3.7/dist-packages (from importlib-metadata>=0.20->catalogue<1.1.0,>=0.0.7->spacy>=2.0.18->fastai==1.0.55->-r requirements.txt (line 22)) (3.6.0)\n",
      "Requirement already satisfied: certifi>=2017.4.17 in /usr/local/lib/python3.7/dist-packages (from requests->fastai==1.0.55->-r requirements.txt (line 22)) (2021.10.8)\n",
      "Requirement already satisfied: chardet<4,>=3.0.2 in /usr/local/lib/python3.7/dist-packages (from requests->fastai==1.0.55->-r requirements.txt (line 22)) (3.0.4)\n",
      "Requirement already satisfied: urllib3!=1.25.0,!=1.25.1,<1.26,>=1.21.1 in /usr/local/lib/python3.7/dist-packages (from requests->fastai==1.0.55->-r requirements.txt (line 22)) (1.24.3)\n",
      "Requirement already satisfied: idna<3,>=2.5 in /usr/local/lib/python3.7/dist-packages (from requests->fastai==1.0.55->-r requirements.txt (line 22)) (2.10)\n",
      "Requirement already satisfied: google-auth<3,>=1.6.3 in /usr/local/lib/python3.7/dist-packages (from tensorboard>=2.2.0->pytorch-lightning==1.1.8->-r requirements.txt (line 18)) (1.35.0)\n",
      "Requirement already satisfied: protobuf>=3.6.0 in /usr/local/lib/python3.7/dist-packages (from tensorboard>=2.2.0->pytorch-lightning==1.1.8->-r requirements.txt (line 18)) (3.17.3)\n",
      "Requirement already satisfied: markdown>=2.6.8 in /usr/local/lib/python3.7/dist-packages (from tensorboard>=2.2.0->pytorch-lightning==1.1.8->-r requirements.txt (line 18)) (3.3.6)\n",
      "Requirement already satisfied: grpcio>=1.24.3 in /usr/local/lib/python3.7/dist-packages (from tensorboard>=2.2.0->pytorch-lightning==1.1.8->-r requirements.txt (line 18)) (1.42.0)\n",
      "Requirement already satisfied: google-auth-oauthlib<0.5,>=0.4.1 in /usr/local/lib/python3.7/dist-packages (from tensorboard>=2.2.0->pytorch-lightning==1.1.8->-r requirements.txt (line 18)) (0.4.6)\n",
      "Requirement already satisfied: tensorboard-data-server<0.7.0,>=0.6.0 in /usr/local/lib/python3.7/dist-packages (from tensorboard>=2.2.0->pytorch-lightning==1.1.8->-r requirements.txt (line 18)) (0.6.1)\n",
      "Requirement already satisfied: wheel>=0.26 in /usr/local/lib/python3.7/dist-packages (from tensorboard>=2.2.0->pytorch-lightning==1.1.8->-r requirements.txt (line 18)) (0.37.0)\n",
      "Requirement already satisfied: tensorboard-plugin-wit>=1.6.0 in /usr/local/lib/python3.7/dist-packages (from tensorboard>=2.2.0->pytorch-lightning==1.1.8->-r requirements.txt (line 18)) (1.8.0)\n",
      "Requirement already satisfied: absl-py>=0.4 in /usr/local/lib/python3.7/dist-packages (from tensorboard>=2.2.0->pytorch-lightning==1.1.8->-r requirements.txt (line 18)) (0.12.0)\n",
      "Requirement already satisfied: werkzeug>=0.11.15 in /usr/local/lib/python3.7/dist-packages (from tensorboard>=2.2.0->pytorch-lightning==1.1.8->-r requirements.txt (line 18)) (1.0.1)\n",
      "Requirement already satisfied: rsa<5,>=3.1.4 in /usr/local/lib/python3.7/dist-packages (from google-auth<3,>=1.6.3->tensorboard>=2.2.0->pytorch-lightning==1.1.8->-r requirements.txt (line 18)) (4.8)\n",
      "Requirement already satisfied: pyasn1-modules>=0.2.1 in /usr/local/lib/python3.7/dist-packages (from google-auth<3,>=1.6.3->tensorboard>=2.2.0->pytorch-lightning==1.1.8->-r requirements.txt (line 18)) (0.2.8)\n",
      "Requirement already satisfied: cachetools<5.0,>=2.0.0 in /usr/local/lib/python3.7/dist-packages (from google-auth<3,>=1.6.3->tensorboard>=2.2.0->pytorch-lightning==1.1.8->-r requirements.txt (line 18)) (4.2.4)\n",
      "Requirement already satisfied: requests-oauthlib>=0.7.0 in /usr/local/lib/python3.7/dist-packages (from google-auth-oauthlib<0.5,>=0.4.1->tensorboard>=2.2.0->pytorch-lightning==1.1.8->-r requirements.txt (line 18)) (1.3.0)\n",
      "Requirement already satisfied: pyasn1<0.5.0,>=0.4.6 in /usr/local/lib/python3.7/dist-packages (from pyasn1-modules>=0.2.1->google-auth<3,>=1.6.3->tensorboard>=2.2.0->pytorch-lightning==1.1.8->-r requirements.txt (line 18)) (0.4.8)\n",
      "Requirement already satisfied: oauthlib>=3.0.0 in /usr/local/lib/python3.7/dist-packages (from requests-oauthlib>=0.7.0->google-auth-oauthlib<0.5,>=0.4.1->tensorboard>=2.2.0->pytorch-lightning==1.1.8->-r requirements.txt (line 18)) (3.1.1)\n",
      "Requirement already satisfied: charset-normalizer<3.0,>=2.0 in /usr/local/lib/python3.7/dist-packages (from aiohttp->fsspec[http]>=0.8.1->pytorch-lightning==1.1.8->-r requirements.txt (line 18)) (2.0.8)\n",
      "Requirement already satisfied: yarl<2.0,>=1.0 in /usr/local/lib/python3.7/dist-packages (from aiohttp->fsspec[http]>=0.8.1->pytorch-lightning==1.1.8->-r requirements.txt (line 18)) (1.7.2)\n",
      "Requirement already satisfied: multidict<7.0,>=4.5 in /usr/local/lib/python3.7/dist-packages (from aiohttp->fsspec[http]>=0.8.1->pytorch-lightning==1.1.8->-r requirements.txt (line 18)) (5.2.0)\n",
      "Requirement already satisfied: async-timeout<5.0,>=4.0.0a3 in /usr/local/lib/python3.7/dist-packages (from aiohttp->fsspec[http]>=0.8.1->pytorch-lightning==1.1.8->-r requirements.txt (line 18)) (4.0.2)\n",
      "Requirement already satisfied: asynctest==0.13.0 in /usr/local/lib/python3.7/dist-packages (from aiohttp->fsspec[http]>=0.8.1->pytorch-lightning==1.1.8->-r requirements.txt (line 18)) (0.13.0)\n",
      "Requirement already satisfied: attrs>=17.3.0 in /usr/local/lib/python3.7/dist-packages (from aiohttp->fsspec[http]>=0.8.1->pytorch-lightning==1.1.8->-r requirements.txt (line 18)) (21.2.0)\n",
      "Requirement already satisfied: aiosignal>=1.1.2 in /usr/local/lib/python3.7/dist-packages (from aiohttp->fsspec[http]>=0.8.1->pytorch-lightning==1.1.8->-r requirements.txt (line 18)) (1.2.0)\n",
      "Requirement already satisfied: frozenlist>=1.1.1 in /usr/local/lib/python3.7/dist-packages (from aiohttp->fsspec[http]>=0.8.1->pytorch-lightning==1.1.8->-r requirements.txt (line 18)) (1.2.0)\n",
      "Requirement already satisfied: pycparser in /usr/local/lib/python3.7/dist-packages (from cffi->jpeg4py==0.1.4->-r requirements.txt (line 23)) (2.21)\n",
      "Requirement already satisfied: pytz>=2017.2 in /usr/local/lib/python3.7/dist-packages (from pandas->fastai==1.0.55->-r requirements.txt (line 22)) (2018.9)\n"
     ]
    }
   ],
   "source": [
    "# Install the other requirements\n",
    "!pip install -r requirements.txt"
   ]
  },
  {
   "cell_type": "code",
   "execution_count": null,
   "metadata": {
    "colab": {
     "base_uri": "https://localhost:8080/"
    },
    "id": "QbNcJjn5nS9-",
    "outputId": "5fbac0ed-73c5-44d5-cdca-b79a644ba97a"
   },
   "outputs": [
    {
     "name": "stdout",
     "output_type": "stream",
     "text": [
      "--2021-12-27 20:57:56--  https://www.dropbox.com/s/aeulffqzb3zmh8x/pare-github-data.zip\n",
      "Resolving www.dropbox.com (www.dropbox.com)... 162.125.1.18, 2620:100:6016:18::a27d:112\n",
      "Connecting to www.dropbox.com (www.dropbox.com)|162.125.1.18|:443... connected.\n",
      "HTTP request sent, awaiting response... 301 Moved Permanently\n",
      "Location: /s/raw/aeulffqzb3zmh8x/pare-github-data.zip [following]\n",
      "--2021-12-27 20:57:57--  https://www.dropbox.com/s/raw/aeulffqzb3zmh8x/pare-github-data.zip\n",
      "Reusing existing connection to www.dropbox.com:443.\n",
      "HTTP request sent, awaiting response... 302 Found\n",
      "Location: https://uce1237c52520b0d8f4f668a5595.dl.dropboxusercontent.com/cd/0/inline/BcrsZl37iG-1_xQBApZKvoYCSRjFE0c24xSFql7HWQNRWs45ROVkL2qBJPL64CxlKwHPbpr2MJes-eoBeYe5TVfxRspUC5uiGDZiBYgVURl6YxhO2sL0CwSepr9eXKrLwC5-c-0Tb5zreHaYWrg2C3RO/file# [following]\n",
      "--2021-12-27 20:57:57--  https://uce1237c52520b0d8f4f668a5595.dl.dropboxusercontent.com/cd/0/inline/BcrsZl37iG-1_xQBApZKvoYCSRjFE0c24xSFql7HWQNRWs45ROVkL2qBJPL64CxlKwHPbpr2MJes-eoBeYe5TVfxRspUC5uiGDZiBYgVURl6YxhO2sL0CwSepr9eXKrLwC5-c-0Tb5zreHaYWrg2C3RO/file\n",
      "Resolving uce1237c52520b0d8f4f668a5595.dl.dropboxusercontent.com (uce1237c52520b0d8f4f668a5595.dl.dropboxusercontent.com)... 162.125.1.15, 2620:100:6016:15::a27d:10f\n",
      "Connecting to uce1237c52520b0d8f4f668a5595.dl.dropboxusercontent.com (uce1237c52520b0d8f4f668a5595.dl.dropboxusercontent.com)|162.125.1.15|:443... connected.\n",
      "HTTP request sent, awaiting response... 302 Found\n",
      "Location: /cd/0/inline2/BcqEm498p_BHIGCFL4EPMdR4M1-xT-dUvu1YskucbBfpi2uRKXsANja3a6RYnzMTVgqXj9HXb_MWvegKaGd_UcH4WXN8VOW_5CgVFS39FwcNMcHi1Vk9kASKlSLaQIQXH9GsUS3XoBCOXwaG3KjMIpKXBOoZBeJLGbCo629NJSJ_LH3i4LZhy6IY2wYxsRQuNQVkU78va-arZ6KCmzj5xFQIC9avX40Bvh1TtugFeEjleGofUL367R2eSlWOuM8qsZQzPMAsxuciXyz4kNipvnRBQoZ8RVU07PSle4cLzq7I4feVsi-rf6PqFp-tRjxLS2pna4vtUcStcFxHaT47Eih7WoWMr18u6tlB3e-OjDKZP8fspWziyyZL2GH5Nsn1UIc/file [following]\n",
      "--2021-12-27 20:57:57--  https://uce1237c52520b0d8f4f668a5595.dl.dropboxusercontent.com/cd/0/inline2/BcqEm498p_BHIGCFL4EPMdR4M1-xT-dUvu1YskucbBfpi2uRKXsANja3a6RYnzMTVgqXj9HXb_MWvegKaGd_UcH4WXN8VOW_5CgVFS39FwcNMcHi1Vk9kASKlSLaQIQXH9GsUS3XoBCOXwaG3KjMIpKXBOoZBeJLGbCo629NJSJ_LH3i4LZhy6IY2wYxsRQuNQVkU78va-arZ6KCmzj5xFQIC9avX40Bvh1TtugFeEjleGofUL367R2eSlWOuM8qsZQzPMAsxuciXyz4kNipvnRBQoZ8RVU07PSle4cLzq7I4feVsi-rf6PqFp-tRjxLS2pna4vtUcStcFxHaT47Eih7WoWMr18u6tlB3e-OjDKZP8fspWziyyZL2GH5Nsn1UIc/file\n",
      "Reusing existing connection to uce1237c52520b0d8f4f668a5595.dl.dropboxusercontent.com:443.\n",
      "HTTP request sent, awaiting response... 200 OK\n",
      "Length: 1318111599 (1.2G) [application/zip]\n",
      "Saving to: ‘pare-github-data.zip’\n",
      "\n",
      "pare-github-data.zi 100%[===================>]   1.23G  94.2MB/s    in 13s     \n",
      "\n",
      "2021-12-27 20:58:11 (95.2 MB/s) - ‘pare-github-data.zip’ saved [1318111599/1318111599]\n",
      "\n",
      "Archive:  pare-github-data.zip\n",
      "replace data/smpl_mean_params.npz? [y]es, [n]o, [A]ll, [N]one, [r]ename: n\n",
      "replace data/sample_video.mp4? [y]es, [n]o, [A]ll, [N]one, [r]ename: n\n",
      "replace data/pare/checkpoints/pare_checkpoint.ckpt? [y]es, [n]o, [A]ll, [N]one, [r]ename: n\n",
      "replace data/pare/checkpoints/pare_config.yaml? [y]es, [n]o, [A]ll, [N]one, [r]ename: n\n",
      "replace data/pare/checkpoints/pare_w_3dpw_checkpoint.ckpt? [y]es, [n]o, [A]ll, [N]one, [r]ename: n\n",
      "replace data/pare/checkpoints/pare_w_3dpw_config.yaml? [y]es, [n]o, [A]ll, [N]one, [r]ename: n\n",
      "replace data/J_regressor_h36m.npy? [y]es, [n]o, [A]ll, [N]one, [r]ename: n\n",
      "replace data/J_regressor_extra.npy? [y]es, [n]o, [A]ll, [N]one, [r]ename: n\n",
      "  inflating: data/yolov3.weights     n\n",
      "n\n",
      "\n",
      "replace data/smpl_partSegmentation_mapping.pkl? [y]es, [n]o, [A]ll, [N]one, [r]ename: replace data/dataset_extras/3doh_test.npz? [y]es, [n]o, [A]ll, [N]one, [r]ename: replace data/dataset_extras/3dpw_all_test_with_mmpose.npz? [y]es, [n]o, [A]ll, [N]one, [r]ename: n\n",
      "replace data/body_models/smpl/neutral_smpl_with_cocoplus_reg.pkl? [y]es, [n]o, [A]ll, [N]one, [r]ename: n\n",
      "replace data/body_models/smpl/SMPL_MALE.pkl? [y]es, [n]o, [A]ll, [N]one, [r]ename: n\n",
      "replace data/body_models/smpl/SMPL_FEMALE.pkl? [y]es, [n]o, [A]ll, [N]one, [r]ename: n\n",
      "replace data/body_models/smpl/SMPL_NEUTRAL.pkl? [y]es, [n]o, [A]ll, [N]one, [r]ename: n\n",
      "mkdir: cannot create directory ‘data/dataset_folders’: File exists\n"
     ]
    }
   ],
   "source": [
    "!source scripts/prepare_data.sh"
   ]
  },
  {
   "cell_type": "code",
   "execution_count": null,
   "metadata": {
    "colab": {
     "base_uri": "https://localhost:8080/"
    },
    "id": "fAm1CCHy7mwQ",
    "outputId": "201bfee5-ecee-4f19-fc4a-e8da3d6564ee"
   },
   "outputs": [
    {
     "name": "stdout",
     "output_type": "stream",
     "text": [
      "Requirement already satisfied: torchtext==0.6.0 in /usr/local/lib/python3.7/dist-packages (0.6.0)\n",
      "Requirement already satisfied: requests in /usr/local/lib/python3.7/dist-packages (from torchtext==0.6.0) (2.23.0)\n",
      "Requirement already satisfied: tqdm in /usr/local/lib/python3.7/dist-packages (from torchtext==0.6.0) (4.47.0)\n",
      "Requirement already satisfied: numpy in /usr/local/lib/python3.7/dist-packages (from torchtext==0.6.0) (1.19.5)\n",
      "Requirement already satisfied: sentencepiece in /usr/local/lib/python3.7/dist-packages (from torchtext==0.6.0) (0.1.96)\n",
      "Requirement already satisfied: six in /usr/local/lib/python3.7/dist-packages (from torchtext==0.6.0) (1.15.0)\n",
      "Requirement already satisfied: torch in /usr/local/lib/python3.7/dist-packages (from torchtext==0.6.0) (1.6.0)\n",
      "Requirement already satisfied: urllib3!=1.25.0,!=1.25.1,<1.26,>=1.21.1 in /usr/local/lib/python3.7/dist-packages (from requests->torchtext==0.6.0) (1.24.3)\n",
      "Requirement already satisfied: idna<3,>=2.5 in /usr/local/lib/python3.7/dist-packages (from requests->torchtext==0.6.0) (2.10)\n",
      "Requirement already satisfied: chardet<4,>=3.0.2 in /usr/local/lib/python3.7/dist-packages (from requests->torchtext==0.6.0) (3.0.4)\n",
      "Requirement already satisfied: certifi>=2017.4.17 in /usr/local/lib/python3.7/dist-packages (from requests->torchtext==0.6.0) (2021.10.8)\n",
      "Requirement already satisfied: future in /usr/local/lib/python3.7/dist-packages (from torch->torchtext==0.6.0) (0.18.2)\n"
     ]
    }
   ],
   "source": [
    "pip install -U torchtext==0.6.0"
   ]
  },
  {
   "cell_type": "code",
   "execution_count": null,
   "metadata": {
    "colab": {
     "base_uri": "https://localhost:8080/"
    },
    "id": "h7svXxBInh84",
    "outputId": "5850e043-716b-41e7-9a2c-a7baeb6d58d5"
   },
   "outputs": [
    {
     "name": "stdout",
     "output_type": "stream",
     "text": [
      "Running \"ffmpeg -i /content/drive/MyDrive/Project_Rec_Vis/data/ntu13/ntu13_rgb/S024C002P062R002A080_rgb.avi -f image2 -v error /content/drive/MyDrive/Project_Rec_Vis/data/ntu13/outputPARE/tmp_images/%06d.png\"\n",
      "Images saved to \"/content/drive/MyDrive/Project_Rec_Vis/data/ntu13/outputPARE/tmp_images\"\n",
      "\u001b[32m2021-12-27 21:51:10.926\u001b[0m | \u001b[1mINFO    \u001b[0m | \u001b[36mpare.models.backbone.hrnet\u001b[0m:\u001b[36minit_weights\u001b[0m:\u001b[36m530\u001b[0m - \u001b[1m=> init weights from normal distribution\u001b[0m\n",
      "\u001b[32m2021-12-27 21:51:11.358\u001b[0m | \u001b[33m\u001b[1mWARNING \u001b[0m | \u001b[36mpare.models.backbone.hrnet\u001b[0m:\u001b[36minit_weights\u001b[0m:\u001b[36m558\u001b[0m - \u001b[33m\u001b[1mIMPORTANT WARNING!! Please download pre-trained models if you are in TRAINING mode!\u001b[0m\n",
      "\u001b[32m2021-12-27 21:51:11.358\u001b[0m | \u001b[1mINFO    \u001b[0m | \u001b[36mpare.models.head.pare_head\u001b[0m:\u001b[36m__init__\u001b[0m:\u001b[36m125\u001b[0m - \u001b[1m\"Keypoint Attention\" should be activated to be able to use part segmentation\u001b[0m\n",
      "\u001b[32m2021-12-27 21:51:11.358\u001b[0m | \u001b[1mINFO    \u001b[0m | \u001b[36mpare.models.head.pare_head\u001b[0m:\u001b[36m__init__\u001b[0m:\u001b[36m126\u001b[0m - \u001b[1mOverriding use_keypoint_attention\u001b[0m\n",
      "\u001b[32m2021-12-27 21:51:11.377\u001b[0m | \u001b[1mINFO    \u001b[0m | \u001b[36mpare.models.head.pare_head\u001b[0m:\u001b[36m__init__\u001b[0m:\u001b[36m327\u001b[0m - \u001b[1mKeypoint attention is active\u001b[0m\n",
      "WARNING: You are using a SMPL model, with only 10 shape coefficients.\n",
      "\u001b[32m2021-12-27 21:51:14.053\u001b[0m | \u001b[1mINFO    \u001b[0m | \u001b[36mpare.core.tester\u001b[0m:\u001b[36m_load_pretrained_model\u001b[0m:\u001b[36m113\u001b[0m - \u001b[1mLoading pretrained model from data/pare/checkpoints/pare_w_3dpw_checkpoint.ckpt\u001b[0m\n",
      "\u001b[32m2021-12-27 21:51:14.667\u001b[0m | \u001b[33m\u001b[1mWARNING \u001b[0m | \u001b[36mpare.utils.train_utils\u001b[0m:\u001b[36mload_pretrained_model\u001b[0m:\u001b[36m45\u001b[0m - \u001b[33m\u001b[1mRemoving \"model.\" keyword from state_dict keys..\u001b[0m\n",
      "\u001b[32m2021-12-27 21:51:15.520\u001b[0m | \u001b[1mINFO    \u001b[0m | \u001b[36mpare.core.tester\u001b[0m:\u001b[36m_load_pretrained_model\u001b[0m:\u001b[36m116\u001b[0m - \u001b[1mLoaded pretrained weights from \"data/pare/checkpoints/pare_w_3dpw_checkpoint.ckpt\"\u001b[0m\n",
      "Running Multi-Person-Tracker\n",
      "100% 3/3 [00:03<00:00,  1.18s/it]\n",
      "Finished. Detection + Tracking FPS 7.87\n",
      "\u001b[32m2021-12-27 21:51:19.906\u001b[0m | \u001b[1mINFO    \u001b[0m | \u001b[36mpare.core.tester\u001b[0m:\u001b[36mrun_on_video\u001b[0m:\u001b[36m287\u001b[0m - \u001b[1mRunning PARE on each tracklet...\u001b[0m\n",
      "  0% 0/1 [00:00<?, ?it/s]\u001b[32m2021-12-27 21:51:21.936\u001b[0m | \u001b[1mINFO    \u001b[0m | \u001b[36mpare.core.tester\u001b[0m:\u001b[36mrun_on_video\u001b[0m:\u001b[36m362\u001b[0m - \u001b[1mConverting smpl keypoints 2d to original image coordinate\u001b[0m\n",
      "100% 1/1 [00:02<00:00,  2.03s/it]\n"
     ]
    }
   ],
   "source": [
    "import os\n",
    "output = '/content/drive/MyDrive/Project_Rec_Vis/data/ntu13/outputPARE'\n",
    "files = os.listdir('/content/drive/MyDrive/Project_Rec_Vis/data/ntu13/ntu13_rgb')\n",
    "for video in files:\n",
    "  !python scripts/demo.py --vid_file $video --no_render --output_folder $output \n",
    "  break "
   ]
  }
 ],
 "metadata": {
  "accelerator": "GPU",
  "colab": {
   "collapsed_sections": [],
   "name": "PARE_demo.ipynb",
   "provenance": []
  },
  "kernelspec": {
   "display_name": "Python 3",
   "language": "python",
   "name": "python3"
  },
  "language_info": {
   "codemirror_mode": {
    "name": "ipython",
    "version": 3
   },
   "file_extension": ".py",
   "mimetype": "text/x-python",
   "name": "python",
   "nbconvert_exporter": "python",
   "pygments_lexer": "ipython3",
   "version": "3.8.5"
  },
  "varInspector": {
   "cols": {
    "lenName": 16,
    "lenType": 16,
    "lenVar": 40
   },
   "kernels_config": {
    "python": {
     "delete_cmd_postfix": "",
     "delete_cmd_prefix": "del ",
     "library": "var_list.py",
     "varRefreshCmd": "print(var_dic_list())"
    },
    "r": {
     "delete_cmd_postfix": ") ",
     "delete_cmd_prefix": "rm(",
     "library": "var_list.r",
     "varRefreshCmd": "cat(var_dic_list()) "
    }
   },
   "types_to_exclude": [
    "module",
    "function",
    "builtin_function_or_method",
    "instance",
    "_Feature"
   ],
   "window_display": false
  }
 },
 "nbformat": 4,
 "nbformat_minor": 1
}
